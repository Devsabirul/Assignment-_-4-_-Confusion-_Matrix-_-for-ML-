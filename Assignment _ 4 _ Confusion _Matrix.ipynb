{
 "cells": [
  {
   "cell_type": "code",
   "execution_count": 1,
   "id": "35b61a95",
   "metadata": {},
   "outputs": [],
   "source": [
    "import numpy as np\n",
    "import pandas as pd\n",
    "import matplotlib.pyplot as plt"
   ]
  },
  {
   "cell_type": "code",
   "execution_count": 2,
   "id": "a1018330",
   "metadata": {},
   "outputs": [],
   "source": [
    "df = pd.read_csv(r\"D:\\Programming\\ML_DATA\\\\Smoking Data.csv\")"
   ]
  },
  {
   "cell_type": "code",
   "execution_count": 3,
   "id": "d4e0826c",
   "metadata": {},
   "outputs": [
    {
     "data": {
      "text/html": [
       "<div>\n",
       "<style scoped>\n",
       "    .dataframe tbody tr th:only-of-type {\n",
       "        vertical-align: middle;\n",
       "    }\n",
       "\n",
       "    .dataframe tbody tr th {\n",
       "        vertical-align: top;\n",
       "    }\n",
       "\n",
       "    .dataframe thead th {\n",
       "        text-align: right;\n",
       "    }\n",
       "</style>\n",
       "<table border=\"1\" class=\"dataframe\">\n",
       "  <thead>\n",
       "    <tr style=\"text-align: right;\">\n",
       "      <th></th>\n",
       "      <th>region</th>\n",
       "      <th>age</th>\n",
       "      <th>sex</th>\n",
       "      <th>bmi</th>\n",
       "      <th>children</th>\n",
       "      <th>smoker</th>\n",
       "    </tr>\n",
       "  </thead>\n",
       "  <tbody>\n",
       "    <tr>\n",
       "      <th>0</th>\n",
       "      <td>southwest</td>\n",
       "      <td>19</td>\n",
       "      <td>female</td>\n",
       "      <td>27.900</td>\n",
       "      <td>0</td>\n",
       "      <td>yes</td>\n",
       "    </tr>\n",
       "    <tr>\n",
       "      <th>1</th>\n",
       "      <td>southeast</td>\n",
       "      <td>18</td>\n",
       "      <td>male</td>\n",
       "      <td>33.770</td>\n",
       "      <td>1</td>\n",
       "      <td>no</td>\n",
       "    </tr>\n",
       "    <tr>\n",
       "      <th>2</th>\n",
       "      <td>southeast</td>\n",
       "      <td>28</td>\n",
       "      <td>male</td>\n",
       "      <td>33.000</td>\n",
       "      <td>3</td>\n",
       "      <td>no</td>\n",
       "    </tr>\n",
       "    <tr>\n",
       "      <th>3</th>\n",
       "      <td>northwest</td>\n",
       "      <td>33</td>\n",
       "      <td>male</td>\n",
       "      <td>22.705</td>\n",
       "      <td>0</td>\n",
       "      <td>no</td>\n",
       "    </tr>\n",
       "    <tr>\n",
       "      <th>4</th>\n",
       "      <td>northwest</td>\n",
       "      <td>32</td>\n",
       "      <td>male</td>\n",
       "      <td>28.880</td>\n",
       "      <td>0</td>\n",
       "      <td>no</td>\n",
       "    </tr>\n",
       "  </tbody>\n",
       "</table>\n",
       "</div>"
      ],
      "text/plain": [
       "      region  age     sex     bmi  children smoker\n",
       "0  southwest   19  female  27.900         0    yes\n",
       "1  southeast   18    male  33.770         1     no\n",
       "2  southeast   28    male  33.000         3     no\n",
       "3  northwest   33    male  22.705         0     no\n",
       "4  northwest   32    male  28.880         0     no"
      ]
     },
     "execution_count": 3,
     "metadata": {},
     "output_type": "execute_result"
    }
   ],
   "source": [
    "df.head()"
   ]
  },
  {
   "cell_type": "markdown",
   "id": "575e234d",
   "metadata": {},
   "source": [
    "# Data Analysis "
   ]
  },
  {
   "cell_type": "code",
   "execution_count": 4,
   "id": "bb6b4284",
   "metadata": {
    "scrolled": true
   },
   "outputs": [
    {
     "data": {
      "text/plain": [
       "no     1064\n",
       "yes     274\n",
       "Name: smoker, dtype: int64"
      ]
     },
     "execution_count": 4,
     "metadata": {},
     "output_type": "execute_result"
    }
   ],
   "source": [
    "df.smoker.value_counts()"
   ]
  },
  {
   "cell_type": "code",
   "execution_count": 5,
   "id": "38c010c1",
   "metadata": {},
   "outputs": [],
   "source": [
    "# percentage calculate for smoker\n",
    "\n",
    "no = (1064 / (1064+274)) * 100 \n",
    "yes = (274 / (1064+274)) * 100"
   ]
  },
  {
   "cell_type": "code",
   "execution_count": 6,
   "id": "bbdd9a77",
   "metadata": {},
   "outputs": [
    {
     "data": {
      "text/plain": [
       "79.52167414050822"
      ]
     },
     "execution_count": 6,
     "metadata": {},
     "output_type": "execute_result"
    }
   ],
   "source": [
    "no\n",
    "# 79.52167414050822 % for NO "
   ]
  },
  {
   "cell_type": "code",
   "execution_count": 7,
   "id": "793962da",
   "metadata": {},
   "outputs": [
    {
     "data": {
      "text/plain": [
       "20.47832585949178"
      ]
     },
     "execution_count": 7,
     "metadata": {},
     "output_type": "execute_result"
    }
   ],
   "source": [
    "yes \n",
    "# 20.47832585949178 % for Yes "
   ]
  },
  {
   "cell_type": "code",
   "execution_count": 8,
   "id": "f81d22d0",
   "metadata": {},
   "outputs": [],
   "source": [
    "# This data is an imbalanced dataset\n",
    "# 79.52167414050822 % for NO \n",
    "# 20.47832585949178 % for Yes "
   ]
  },
  {
   "cell_type": "markdown",
   "id": "20e4b2ef",
   "metadata": {},
   "source": [
    "# Data visualization"
   ]
  },
  {
   "cell_type": "code",
   "execution_count": 9,
   "id": "1c0a75d6",
   "metadata": {},
   "outputs": [],
   "source": [
    "import seaborn as sns"
   ]
  },
  {
   "cell_type": "code",
   "execution_count": 10,
   "id": "00f478ed",
   "metadata": {},
   "outputs": [
    {
     "data": {
      "text/plain": [
       "Index(['region', 'age', 'sex', 'bmi', 'children', 'smoker'], dtype='object')"
      ]
     },
     "execution_count": 10,
     "metadata": {},
     "output_type": "execute_result"
    }
   ],
   "source": [
    "df.keys()"
   ]
  },
  {
   "cell_type": "code",
   "execution_count": 11,
   "id": "9a56e60f",
   "metadata": {},
   "outputs": [
    {
     "data": {
      "text/plain": [
       "Text(0.5, 1.0, 'Countplot For Smoker')"
      ]
     },
     "execution_count": 11,
     "metadata": {},
     "output_type": "execute_result"
    },
    {
     "data": {
      "image/png": "[encoded data removed]",
      "text/plain": [
       "<Figure size 720x432 with 1 Axes>"
      ]
     },
     "metadata": {
      "needs_background": "light"
     },
     "output_type": "display_data"
    }
   ],
   "source": [
    "plt.figure(figsize=(10,6))\n",
    "sns.countplot(x='smoker',data=df, hue=\"sex\") # This data is an imbalanced dataset\n",
    "plt.title(\"Countplot For Smoker\")"
   ]
  },
  {
   "cell_type": "markdown",
   "id": "650f0f00",
   "metadata": {},
   "source": [
    "# Show count in Seaborn countplots"
   ]
  },
  {
   "cell_type": "code",
   "execution_count": 12,
   "id": "cf721688",
   "metadata": {},
   "outputs": [
    {
     "data": {
      "image/png": "[encoded data removed]",
      "text/plain": [
       "<Figure size 864x576 with 1 Axes>"
      ]
     },
     "metadata": {
      "needs_background": "light"
     },
     "output_type": "display_data"
    }
   ],
   "source": [
    "# I got the code in this blog https://www.dataforeverybody.com/countplot-seaborn-order-size-values/\n",
    "\n",
    "plt.figure(figsize = (12,8)) \n",
    "clt =sns.countplot(x = 'smoker', data=df, hue='sex')\n",
    "# show the value count for every bar\n",
    "\n",
    "for rect in clt.patches:\n",
    "    clt.text (rect.get_x() + rect.get_width()  / 2,rect.get_height()+ 0.75,\n",
    "              rect.get_height(),horizontalalignment='center', fontsize = 15)\n",
    "    "
   ]
  },
  {
   "cell_type": "code",
   "execution_count": 13,
   "id": "813879c3",
   "metadata": {},
   "outputs": [
    {
     "data": {
      "image/png": "[encoded data removed]",
      "text/plain": [
       "<Figure size 720x432 with 1 Axes>"
      ]
     },
     "metadata": {
      "needs_background": "light"
     },
     "output_type": "display_data"
    },
    {
     "data": {
      "image/png": "[encoded data removed]",
      "text/plain": [
       "<Figure size 720x432 with 1 Axes>"
      ]
     },
     "metadata": {
      "needs_background": "light"
     },
     "output_type": "display_data"
    },
    {
     "data": {
      "image/png": "[encoded data removed]",
      "text/plain": [
       "<Figure size 720x432 with 1 Axes>"
      ]
     },
     "metadata": {
      "needs_background": "light"
     },
     "output_type": "display_data"
    }
   ],
   "source": [
    "# This data is an imbalanced dataset\n",
    "\n",
    "cols = ['region', 'sex','children'] \n",
    "for col in cols:\n",
    "    plt.figure(figsize=(10,6))\n",
    "    sns.countplot(x='smoker',data=df, hue=col)\n",
    "    plt.title(\"Countplot For Smoker\")"
   ]
  },
  {
   "cell_type": "code",
   "execution_count": 14,
   "id": "f07edde4",
   "metadata": {},
   "outputs": [
    {
     "name": "stderr",
     "output_type": "stream",
     "text": [
      "C:\\ProgramData\\Anaconda3\\lib\\site-packages\\seaborn\\distributions.py:2619: FutureWarning: `distplot` is a deprecated function and will be removed in a future version. Please adapt your code to use either `displot` (a figure-level function with similar flexibility) or `histplot` (an axes-level function for histograms).\n",
      "  warnings.warn(msg, FutureWarning)\n"
     ]
    },
    {
     "data": {
      "image/png": "[encoded data removed]",
      "text/plain": [
       "<Figure size 720x432 with 1 Axes>"
      ]
     },
     "metadata": {
      "needs_background": "light"
     },
     "output_type": "display_data"
    }
   ],
   "source": [
    "plt.figure(figsize=(10,6))\n",
    "sns.distplot(df['children'])\n",
    "plt.title(\"Distplot For Children \")\n",
    "plt.show()"
   ]
  },
  {
   "cell_type": "code",
   "execution_count": 15,
   "id": "22680d99",
   "metadata": {},
   "outputs": [
    {
     "data": {
      "text/plain": [
       "Index(['region', 'age', 'sex', 'bmi', 'children', 'smoker'], dtype='object')"
      ]
     },
     "execution_count": 15,
     "metadata": {},
     "output_type": "execute_result"
    }
   ],
   "source": [
    "df.keys()"
   ]
  },
  {
   "cell_type": "code",
   "execution_count": 16,
   "id": "eaca1d4a",
   "metadata": {
    "scrolled": false
   },
   "outputs": [
    {
     "name": "stderr",
     "output_type": "stream",
     "text": [
      "C:\\ProgramData\\Anaconda3\\lib\\site-packages\\seaborn\\distributions.py:2619: FutureWarning: `distplot` is a deprecated function and will be removed in a future version. Please adapt your code to use either `displot` (a figure-level function with similar flexibility) or `histplot` (an axes-level function for histograms).\n",
      "  warnings.warn(msg, FutureWarning)\n",
      "C:\\ProgramData\\Anaconda3\\lib\\site-packages\\seaborn\\distributions.py:2619: FutureWarning: `distplot` is a deprecated function and will be removed in a future version. Please adapt your code to use either `displot` (a figure-level function with similar flexibility) or `histplot` (an axes-level function for histograms).\n",
      "  warnings.warn(msg, FutureWarning)\n",
      "C:\\ProgramData\\Anaconda3\\lib\\site-packages\\seaborn\\distributions.py:2619: FutureWarning: `distplot` is a deprecated function and will be removed in a future version. Please adapt your code to use either `displot` (a figure-level function with similar flexibility) or `histplot` (an axes-level function for histograms).\n",
      "  warnings.warn(msg, FutureWarning)\n"
     ]
    },
    {
     "data": {
      "image/png": "[encoded data removed]",
      "text/plain": [
       "<Figure size 720x432 with 1 Axes>"
      ]
     },
     "metadata": {
      "needs_background": "light"
     },
     "output_type": "display_data"
    },
    {
     "data": {
      "image/png": "[encoded data removed]",
      "text/plain": [
       "<Figure size 720x432 with 1 Axes>"
      ]
     },
     "metadata": {
      "needs_background": "light"
     },
     "output_type": "display_data"
    },
    {
     "data": {
      "image/png": "[encoded data removed]",
      "text/plain": [
       "<Figure size 720x432 with 1 Axes>"
      ]
     },
     "metadata": {
      "needs_background": "light"
     },
     "output_type": "display_data"
    }
   ],
   "source": [
    "cols = ['age', 'bmi', 'children']\n",
    "\n",
    "for col in cols:\n",
    "    plt.figure(figsize=(10,6))\n",
    "    sns.distplot(df[cols])\n",
    "    plt.title(\"Distplot For \" + col)\n",
    "    \n",
    "plt.show()"
   ]
  },
  {
   "cell_type": "markdown",
   "id": "f0994913",
   "metadata": {},
   "source": [
    "# Convert Categorical Data to Numerical Data"
   ]
  },
  {
   "cell_type": "code",
   "execution_count": 17,
   "id": "159550b5",
   "metadata": {},
   "outputs": [],
   "source": [
    "x = df.drop('smoker',axis=1)\n",
    "y = df.smoker"
   ]
  },
  {
   "cell_type": "code",
   "execution_count": 18,
   "id": "2d554482",
   "metadata": {},
   "outputs": [],
   "source": [
    "from sklearn.preprocessing import LabelEncoder\n",
    "le = LabelEncoder()"
   ]
  },
  {
   "cell_type": "code",
   "execution_count": 19,
   "id": "ce477482",
   "metadata": {},
   "outputs": [],
   "source": [
    "# Encoding with For Loop\n",
    "from pandas.core.dtypes.common import is_numeric_dtype\n",
    "cols = ['region', 'age', 'sex', 'bmi', 'children']\n",
    "for col in cols:\n",
    "    if is_numeric_dtype(x[col]):\n",
    "        continue\n",
    "    else:\n",
    "        x[col] = le.fit_transform(x[col])"
   ]
  },
  {
   "cell_type": "code",
   "execution_count": 20,
   "id": "84fb4d9d",
   "metadata": {
    "scrolled": true
   },
   "outputs": [
    {
     "data": {
      "text/html": [
       "<div>\n",
       "<style scoped>\n",
       "    .dataframe tbody tr th:only-of-type {\n",
       "        vertical-align: middle;\n",
       "    }\n",
       "\n",
       "    .dataframe tbody tr th {\n",
       "        vertical-align: top;\n",
       "    }\n",
       "\n",
       "    .dataframe thead th {\n",
       "        text-align: right;\n",
       "    }\n",
       "</style>\n",
       "<table border=\"1\" class=\"dataframe\">\n",
       "  <thead>\n",
       "    <tr style=\"text-align: right;\">\n",
       "      <th></th>\n",
       "      <th>region</th>\n",
       "      <th>age</th>\n",
       "      <th>sex</th>\n",
       "      <th>bmi</th>\n",
       "      <th>children</th>\n",
       "    </tr>\n",
       "  </thead>\n",
       "  <tbody>\n",
       "    <tr>\n",
       "      <th>0</th>\n",
       "      <td>3</td>\n",
       "      <td>19</td>\n",
       "      <td>0</td>\n",
       "      <td>27.900</td>\n",
       "      <td>0</td>\n",
       "    </tr>\n",
       "    <tr>\n",
       "      <th>1</th>\n",
       "      <td>2</td>\n",
       "      <td>18</td>\n",
       "      <td>1</td>\n",
       "      <td>33.770</td>\n",
       "      <td>1</td>\n",
       "    </tr>\n",
       "    <tr>\n",
       "      <th>2</th>\n",
       "      <td>2</td>\n",
       "      <td>28</td>\n",
       "      <td>1</td>\n",
       "      <td>33.000</td>\n",
       "      <td>3</td>\n",
       "    </tr>\n",
       "    <tr>\n",
       "      <th>3</th>\n",
       "      <td>1</td>\n",
       "      <td>33</td>\n",
       "      <td>1</td>\n",
       "      <td>22.705</td>\n",
       "      <td>0</td>\n",
       "    </tr>\n",
       "    <tr>\n",
       "      <th>4</th>\n",
       "      <td>1</td>\n",
       "      <td>32</td>\n",
       "      <td>1</td>\n",
       "      <td>28.880</td>\n",
       "      <td>0</td>\n",
       "    </tr>\n",
       "  </tbody>\n",
       "</table>\n",
       "</div>"
      ],
      "text/plain": [
       "   region  age  sex     bmi  children\n",
       "0       3   19    0  27.900         0\n",
       "1       2   18    1  33.770         1\n",
       "2       2   28    1  33.000         3\n",
       "3       1   33    1  22.705         0\n",
       "4       1   32    1  28.880         0"
      ]
     },
     "execution_count": 20,
     "metadata": {},
     "output_type": "execute_result"
    }
   ],
   "source": [
    "x.head()"
   ]
  },
  {
   "cell_type": "markdown",
   "id": "fb04ea73",
   "metadata": {},
   "source": [
    "# training test split for ML model "
   ]
  },
  {
   "cell_type": "code",
   "execution_count": 21,
   "id": "1b4e2f6e",
   "metadata": {},
   "outputs": [],
   "source": [
    "from sklearn.model_selection import train_test_split"
   ]
  },
  {
   "cell_type": "code",
   "execution_count": 22,
   "id": "ffffd2a6",
   "metadata": {},
   "outputs": [],
   "source": [
    "x_train,x_test,y_train,y_test = train_test_split(x,y, train_size=.70, random_state=51)"
   ]
  },
  {
   "cell_type": "code",
   "execution_count": 23,
   "id": "f35b226a",
   "metadata": {},
   "outputs": [
    {
     "data": {
      "text/html": [
       "<div>\n",
       "<style scoped>\n",
       "    .dataframe tbody tr th:only-of-type {\n",
       "        vertical-align: middle;\n",
       "    }\n",
       "\n",
       "    .dataframe tbody tr th {\n",
       "        vertical-align: top;\n",
       "    }\n",
       "\n",
       "    .dataframe thead th {\n",
       "        text-align: right;\n",
       "    }\n",
       "</style>\n",
       "<table border=\"1\" class=\"dataframe\">\n",
       "  <thead>\n",
       "    <tr style=\"text-align: right;\">\n",
       "      <th></th>\n",
       "      <th>region</th>\n",
       "      <th>age</th>\n",
       "      <th>sex</th>\n",
       "      <th>bmi</th>\n",
       "      <th>children</th>\n",
       "    </tr>\n",
       "  </thead>\n",
       "  <tbody>\n",
       "    <tr>\n",
       "      <th>938</th>\n",
       "      <td>2</td>\n",
       "      <td>18</td>\n",
       "      <td>1</td>\n",
       "      <td>26.18</td>\n",
       "      <td>2</td>\n",
       "    </tr>\n",
       "    <tr>\n",
       "      <th>1054</th>\n",
       "      <td>1</td>\n",
       "      <td>27</td>\n",
       "      <td>0</td>\n",
       "      <td>21.47</td>\n",
       "      <td>0</td>\n",
       "    </tr>\n",
       "    <tr>\n",
       "      <th>1057</th>\n",
       "      <td>2</td>\n",
       "      <td>45</td>\n",
       "      <td>0</td>\n",
       "      <td>31.79</td>\n",
       "      <td>0</td>\n",
       "    </tr>\n",
       "    <tr>\n",
       "      <th>792</th>\n",
       "      <td>0</td>\n",
       "      <td>22</td>\n",
       "      <td>0</td>\n",
       "      <td>23.18</td>\n",
       "      <td>0</td>\n",
       "    </tr>\n",
       "    <tr>\n",
       "      <th>438</th>\n",
       "      <td>2</td>\n",
       "      <td>52</td>\n",
       "      <td>0</td>\n",
       "      <td>46.75</td>\n",
       "      <td>5</td>\n",
       "    </tr>\n",
       "  </tbody>\n",
       "</table>\n",
       "</div>"
      ],
      "text/plain": [
       "      region  age  sex    bmi  children\n",
       "938        2   18    1  26.18         2\n",
       "1054       1   27    0  21.47         0\n",
       "1057       2   45    0  31.79         0\n",
       "792        0   22    0  23.18         0\n",
       "438        2   52    0  46.75         5"
      ]
     },
     "execution_count": 23,
     "metadata": {},
     "output_type": "execute_result"
    }
   ],
   "source": [
    "x_train.head()"
   ]
  },
  {
   "cell_type": "code",
   "execution_count": 24,
   "id": "0d8e5694",
   "metadata": {
    "scrolled": true
   },
   "outputs": [
    {
     "data": {
      "text/plain": [
       "938     no\n",
       "1054    no\n",
       "1057    no\n",
       "792     no\n",
       "438     no\n",
       "Name: smoker, dtype: object"
      ]
     },
     "execution_count": 24,
     "metadata": {},
     "output_type": "execute_result"
    }
   ],
   "source": [
    "y_train.head()"
   ]
  },
  {
   "cell_type": "markdown",
   "id": "1bb71c72",
   "metadata": {},
   "source": [
    "# Decision Tree Classifier"
   ]
  },
  {
   "cell_type": "code",
   "execution_count": 25,
   "id": "2154c7b7",
   "metadata": {},
   "outputs": [],
   "source": [
    "from sklearn.tree import DecisionTreeClassifier"
   ]
  },
  {
   "cell_type": "code",
   "execution_count": 26,
   "id": "1e7f3e82",
   "metadata": {},
   "outputs": [],
   "source": [
    "clf = DecisionTreeClassifier()"
   ]
  },
  {
   "cell_type": "code",
   "execution_count": 27,
   "id": "0597340d",
   "metadata": {},
   "outputs": [
    {
     "data": {
      "text/plain": [
       "DecisionTreeClassifier()"
      ]
     },
     "execution_count": 27,
     "metadata": {},
     "output_type": "execute_result"
    }
   ],
   "source": [
    "clf.fit(x_train,y_train) # fitting the model "
   ]
  },
  {
   "cell_type": "code",
   "execution_count": 28,
   "id": "390316cf",
   "metadata": {},
   "outputs": [],
   "source": [
    "testing = clf.predict(x_test) # Testing the model "
   ]
  },
  {
   "cell_type": "code",
   "execution_count": 29,
   "id": "f4be593a",
   "metadata": {},
   "outputs": [
    {
     "data": {
      "text/plain": [
       "array(['yes', 'no', 'no', 'no', 'no', 'no', 'no', 'no', 'no', 'yes', 'no',\n",
       "       'no', 'no', 'yes', 'no', 'no', 'no', 'no', 'no', 'yes', 'yes',\n",
       "       'no', 'yes', 'no', 'no', 'no', 'no', 'no', 'no', 'no', 'yes', 'no',\n",
       "       'no', 'no', 'no', 'no', 'yes', 'yes', 'no', 'no', 'no', 'no', 'no',\n",
       "       'no', 'no', 'no', 'no', 'no', 'no', 'no', 'no', 'yes', 'no', 'yes',\n",
       "       'no', 'no', 'yes', 'no', 'no', 'yes', 'no', 'no', 'no', 'no',\n",
       "       'yes', 'no', 'no', 'no', 'no', 'no', 'no', 'yes', 'no', 'no',\n",
       "       'yes', 'no', 'yes', 'no', 'no', 'no', 'no', 'yes', 'no', 'no',\n",
       "       'no', 'no', 'yes', 'no', 'no', 'no', 'yes', 'yes', 'no', 'no',\n",
       "       'yes', 'no', 'no', 'no', 'no', 'no', 'no', 'yes', 'no', 'yes',\n",
       "       'no', 'no', 'no', 'yes', 'no', 'no', 'no', 'no', 'yes', 'no', 'no',\n",
       "       'yes', 'no', 'no', 'no', 'yes', 'no', 'no', 'no', 'no', 'no', 'no',\n",
       "       'no', 'no', 'no', 'yes', 'yes', 'no', 'no', 'no', 'no', 'no', 'no',\n",
       "       'yes', 'no', 'no', 'yes', 'yes', 'no', 'no', 'no', 'no', 'no',\n",
       "       'no', 'no', 'no', 'yes', 'no', 'no', 'yes', 'no', 'no', 'no', 'no',\n",
       "       'no', 'no', 'no', 'no', 'no', 'no', 'no', 'no', 'no', 'no', 'no',\n",
       "       'no', 'yes', 'no', 'no', 'yes', 'no', 'no', 'no', 'yes', 'no',\n",
       "       'no', 'no', 'no', 'yes', 'no', 'no', 'no', 'no', 'no', 'no', 'no',\n",
       "       'no', 'no', 'yes', 'no', 'no', 'no', 'yes', 'no', 'no', 'no', 'no',\n",
       "       'no', 'no', 'no', 'no', 'no', 'no', 'no', 'yes', 'no', 'yes', 'no',\n",
       "       'no', 'no', 'no', 'no', 'yes', 'no', 'no', 'no', 'no', 'no', 'no',\n",
       "       'no', 'no', 'no', 'no', 'no', 'no', 'no', 'no', 'no', 'no', 'no',\n",
       "       'no', 'no', 'no', 'yes', 'no', 'yes', 'no', 'no', 'no', 'yes',\n",
       "       'no', 'yes', 'no', 'yes', 'no', 'yes', 'no', 'no', 'yes', 'no',\n",
       "       'no', 'no', 'no', 'no', 'no', 'no', 'no', 'no', 'yes', 'no', 'no',\n",
       "       'no', 'no', 'no', 'no', 'no', 'no', 'no', 'yes', 'no', 'no', 'yes',\n",
       "       'no', 'yes', 'yes', 'yes', 'no', 'yes', 'yes', 'no', 'yes', 'no',\n",
       "       'yes', 'yes', 'no', 'no', 'yes', 'no', 'yes', 'no', 'no', 'no',\n",
       "       'yes', 'no', 'no', 'no', 'yes', 'no', 'no', 'no', 'no', 'no', 'no',\n",
       "       'no', 'no', 'no', 'no', 'no', 'no', 'yes', 'no', 'no', 'yes', 'no',\n",
       "       'no', 'no', 'no', 'no', 'no', 'yes', 'no', 'no', 'no', 'no', 'no',\n",
       "       'no', 'yes', 'no', 'no', 'no', 'no', 'no', 'no', 'no', 'yes', 'no',\n",
       "       'no', 'no', 'yes', 'yes', 'no', 'no', 'yes', 'no', 'no', 'no',\n",
       "       'no', 'no', 'no', 'yes', 'no', 'no', 'no', 'no', 'no', 'no', 'no',\n",
       "       'no', 'no', 'no', 'no', 'no', 'no', 'no', 'no', 'no', 'no', 'no',\n",
       "       'yes', 'no', 'no', 'yes', 'no', 'no', 'no', 'no', 'no', 'yes',\n",
       "       'no', 'no', 'no', 'no', 'yes', 'no', 'no', 'no', 'no', 'no', 'no',\n",
       "       'no', 'yes', 'no', 'no', 'yes', 'yes', 'no', 'no', 'no'],\n",
       "      dtype=object)"
      ]
     },
     "execution_count": 29,
     "metadata": {},
     "output_type": "execute_result"
    }
   ],
   "source": [
    "testing # Predicted Result "
   ]
  },
  {
   "cell_type": "code",
   "execution_count": 30,
   "id": "0f03fa05",
   "metadata": {
    "scrolled": false
   },
   "outputs": [
    {
     "data": {
      "text/plain": [
       "array(['no', 'yes', 'no', 'no', 'yes', 'no', 'no', 'no', 'no', 'no', 'no',\n",
       "       'no', 'no', 'no', 'no', 'no', 'no', 'no', 'yes', 'yes', 'no', 'no',\n",
       "       'yes', 'no', 'no', 'no', 'no', 'no', 'yes', 'no', 'no', 'yes',\n",
       "       'no', 'no', 'no', 'no', 'no', 'no', 'no', 'no', 'no', 'no', 'no',\n",
       "       'no', 'no', 'no', 'no', 'yes', 'no', 'no', 'no', 'yes', 'no',\n",
       "       'yes', 'no', 'yes', 'no', 'no', 'no', 'no', 'no', 'no', 'yes',\n",
       "       'no', 'no', 'no', 'no', 'no', 'no', 'no', 'yes', 'no', 'no', 'no',\n",
       "       'no', 'no', 'yes', 'yes', 'no', 'no', 'no', 'no', 'no', 'no', 'no',\n",
       "       'yes', 'no', 'no', 'no', 'no', 'no', 'no', 'no', 'no', 'no', 'yes',\n",
       "       'yes', 'no', 'yes', 'no', 'no', 'no', 'yes', 'no', 'no', 'no',\n",
       "       'no', 'no', 'no', 'yes', 'no', 'no', 'no', 'no', 'no', 'no', 'no',\n",
       "       'no', 'no', 'yes', 'yes', 'no', 'yes', 'no', 'no', 'yes', 'no',\n",
       "       'yes', 'no', 'no', 'no', 'no', 'no', 'no', 'no', 'yes', 'no', 'no',\n",
       "       'no', 'no', 'yes', 'no', 'yes', 'no', 'no', 'no', 'no', 'yes',\n",
       "       'no', 'no', 'yes', 'yes', 'no', 'no', 'no', 'no', 'yes', 'no',\n",
       "       'no', 'no', 'yes', 'yes', 'yes', 'no', 'no', 'no', 'no', 'no',\n",
       "       'yes', 'no', 'no', 'no', 'no', 'no', 'yes', 'yes', 'no', 'yes',\n",
       "       'no', 'no', 'no', 'no', 'no', 'no', 'no', 'no', 'no', 'no', 'no',\n",
       "       'no', 'no', 'yes', 'no', 'yes', 'no', 'no', 'no', 'yes', 'no',\n",
       "       'no', 'no', 'yes', 'yes', 'no', 'no', 'no', 'no', 'no', 'no', 'no',\n",
       "       'no', 'yes', 'no', 'no', 'no', 'yes', 'no', 'yes', 'yes', 'no',\n",
       "       'no', 'no', 'no', 'no', 'no', 'no', 'no', 'no', 'no', 'no', 'no',\n",
       "       'no', 'no', 'no', 'no', 'no', 'yes', 'no', 'no', 'no', 'no', 'no',\n",
       "       'no', 'no', 'no', 'yes', 'no', 'no', 'yes', 'no', 'no', 'no', 'no',\n",
       "       'no', 'yes', 'yes', 'no', 'yes', 'no', 'no', 'no', 'no', 'yes',\n",
       "       'no', 'yes', 'yes', 'yes', 'no', 'no', 'yes', 'no', 'no', 'yes',\n",
       "       'yes', 'no', 'no', 'no', 'no', 'yes', 'yes', 'no', 'no', 'no',\n",
       "       'no', 'yes', 'no', 'yes', 'no', 'no', 'yes', 'no', 'no', 'no',\n",
       "       'no', 'no', 'yes', 'no', 'no', 'no', 'no', 'no', 'no', 'no', 'yes',\n",
       "       'no', 'yes', 'yes', 'yes', 'no', 'yes', 'yes', 'no', 'no', 'no',\n",
       "       'no', 'yes', 'yes', 'yes', 'no', 'no', 'no', 'no', 'no', 'no',\n",
       "       'no', 'no', 'no', 'no', 'no', 'no', 'no', 'no', 'no', 'no', 'yes',\n",
       "       'no', 'no', 'yes', 'no', 'no', 'no', 'no', 'yes', 'no', 'no',\n",
       "       'yes', 'no', 'yes', 'no', 'no', 'yes', 'no', 'no', 'no', 'yes',\n",
       "       'no', 'no', 'no', 'no', 'no', 'no', 'yes', 'no', 'no', 'no', 'yes',\n",
       "       'no', 'yes', 'no', 'no', 'no', 'no', 'no', 'no', 'no', 'no', 'no',\n",
       "       'no', 'no', 'yes', 'no', 'no', 'no', 'yes', 'no', 'no', 'no', 'no',\n",
       "       'no', 'no', 'no', 'no', 'no', 'no', 'yes', 'yes', 'no', 'no',\n",
       "       'yes', 'no', 'no', 'no'], dtype=object)"
      ]
     },
     "execution_count": 30,
     "metadata": {},
     "output_type": "execute_result"
    }
   ],
   "source": [
    "np.array(y_test) # actual Result"
   ]
  },
  {
   "cell_type": "code",
   "execution_count": 31,
   "id": "7c0374b4",
   "metadata": {},
   "outputs": [
    {
     "data": {
      "text/plain": [
       "0.6666666666666666"
      ]
     },
     "execution_count": 31,
     "metadata": {},
     "output_type": "execute_result"
    }
   ],
   "source": [
    "clf.score(x_test,y_test)"
   ]
  },
  {
   "cell_type": "markdown",
   "id": "416bc21a",
   "metadata": {},
   "source": [
    "# Confusion Matrix"
   ]
  },
  {
   "cell_type": "code",
   "execution_count": 32,
   "id": "352f623e",
   "metadata": {},
   "outputs": [],
   "source": [
    "from sklearn.metrics import classification_report, confusion_matrix, roc_curve, plot_roc_curve"
   ]
  },
  {
   "cell_type": "code",
   "execution_count": 33,
   "id": "91facf9f",
   "metadata": {},
   "outputs": [
    {
     "name": "stdout",
     "output_type": "stream",
     "text": [
      "              precision    recall  f1-score   support\n",
      "\n",
      "          no       0.78      0.80      0.79       310\n",
      "         yes       0.24      0.22      0.23        92\n",
      "\n",
      "    accuracy                           0.67       402\n",
      "   macro avg       0.51      0.51      0.51       402\n",
      "weighted avg       0.65      0.67      0.66       402\n",
      "\n"
     ]
    }
   ],
   "source": [
    "print(classification_report(y_test,testing))"
   ]
  },
  {
   "cell_type": "code",
   "execution_count": 34,
   "id": "540c39bb",
   "metadata": {},
   "outputs": [
    {
     "data": {
      "text/plain": [
       "array([[248,  62],\n",
       "       [ 72,  20]], dtype=int64)"
      ]
     },
     "execution_count": 34,
     "metadata": {},
     "output_type": "execute_result"
    }
   ],
   "source": [
    "con_mat = confusion_matrix(y_test,testing)\n",
    "con_mat"
   ]
  },
  {
   "cell_type": "code",
   "execution_count": 35,
   "id": "7f9fa0b5",
   "metadata": {},
   "outputs": [
    {
     "data": {
      "text/plain": [
       "Text(51.0, 0.5, 'Actual Values')"
      ]
     },
     "execution_count": 35,
     "metadata": {},
     "output_type": "execute_result"
    },
    {
     "data": {
      "image/png": "[encoded data removed]",
      "text/plain": [
       "<Figure size 576x360 with 2 Axes>"
      ]
     },
     "metadata": {
      "needs_background": "light"
     },
     "output_type": "display_data"
    }
   ],
   "source": [
    "plt.figure(figsize=(8,5))\n",
    "sns.heatmap(con_mat, annot=True)\n",
    "plt.xlabel('Predicted Values',)\n",
    "plt.ylabel('Actual Values')"
   ]
  },
  {
   "cell_type": "code",
   "execution_count": 36,
   "id": "8e618955",
   "metadata": {},
   "outputs": [],
   "source": [
    "tp,fn,fp,tn = con_mat.reshape(-1)"
   ]
  },
  {
   "cell_type": "code",
   "execution_count": 37,
   "id": "a164407c",
   "metadata": {},
   "outputs": [
    {
     "data": {
      "text/plain": [
       "248"
      ]
     },
     "execution_count": 37,
     "metadata": {},
     "output_type": "execute_result"
    }
   ],
   "source": [
    "tp"
   ]
  },
  {
   "cell_type": "code",
   "execution_count": 38,
   "id": "80031d14",
   "metadata": {},
   "outputs": [
    {
     "data": {
      "text/plain": [
       "62"
      ]
     },
     "execution_count": 38,
     "metadata": {},
     "output_type": "execute_result"
    }
   ],
   "source": [
    "fn"
   ]
  },
  {
   "cell_type": "code",
   "execution_count": 39,
   "id": "335d9f77",
   "metadata": {},
   "outputs": [
    {
     "data": {
      "text/plain": [
       "72"
      ]
     },
     "execution_count": 39,
     "metadata": {},
     "output_type": "execute_result"
    }
   ],
   "source": [
    "fp"
   ]
  },
  {
   "cell_type": "code",
   "execution_count": 40,
   "id": "1c2b6bac",
   "metadata": {},
   "outputs": [
    {
     "data": {
      "text/plain": [
       "20"
      ]
     },
     "execution_count": 40,
     "metadata": {},
     "output_type": "execute_result"
    }
   ],
   "source": [
    "tn"
   ]
  },
  {
   "cell_type": "markdown",
   "id": "822268bf",
   "metadata": {},
   "source": [
    "# Find Accuracy"
   ]
  },
  {
   "cell_type": "code",
   "execution_count": 41,
   "id": "8ba62c54",
   "metadata": {},
   "outputs": [],
   "source": [
    "# tp = 252 , fn = 69 , fp = 67 , tn = 14  \n",
    "accuracy = (tp+tn) / (tp + fp + tn + fn)                 "
   ]
  },
  {
   "cell_type": "code",
   "execution_count": 42,
   "id": "18a71fdb",
   "metadata": {},
   "outputs": [
    {
     "data": {
      "text/plain": [
       "0.6666666666666666"
      ]
     },
     "execution_count": 42,
     "metadata": {},
     "output_type": "execute_result"
    }
   ],
   "source": [
    "accuracy\n",
    "\n",
    "# accuracy is 0.6616915422885572 %"
   ]
  },
  {
   "cell_type": "markdown",
   "id": "612181cc",
   "metadata": {},
   "source": [
    "# Precision or Positive Predictive Value ( PPV )"
   ]
  },
  {
   "cell_type": "code",
   "execution_count": 43,
   "id": "eab07544",
   "metadata": {
    "scrolled": true
   },
   "outputs": [
    {
     "data": {
      "text/plain": [
       "0.775"
      ]
     },
     "execution_count": 43,
     "metadata": {},
     "output_type": "execute_result"
    }
   ],
   "source": [
    "# tp = 252 , fp = 67 \n",
    "\n",
    "ppv = tp/(tp+fp)\n",
    "ppv\n",
    "# PPV is 0.7899686520376176 % "
   ]
  },
  {
   "cell_type": "markdown",
   "id": "e1e5136e",
   "metadata": {},
   "source": [
    "# Sensitivity , Recall , Hit Rate  , or True Positive Rate ( TTR )"
   ]
  },
  {
   "cell_type": "code",
   "execution_count": 44,
   "id": "cc1edf62",
   "metadata": {},
   "outputs": [
    {
     "data": {
      "text/plain": [
       "0.8"
      ]
     },
     "execution_count": 44,
     "metadata": {},
     "output_type": "execute_result"
    }
   ],
   "source": [
    "# tp = 252 , fn = 69 , fp = 67 , tn = 14 \n",
    "recall = tp / (tp+fn)\n",
    "recall \n",
    "# recall is 0.7850467289719626 %  "
   ]
  },
  {
   "cell_type": "markdown",
   "id": "b75d5680",
   "metadata": {},
   "source": [
    "# Sensitivity , Selectivity, or True Negative Rate ( TNR )"
   ]
  },
  {
   "cell_type": "code",
   "execution_count": 45,
   "id": "5273840a",
   "metadata": {},
   "outputs": [],
   "source": [
    "# tp = 252 , fn = 69 , fp = 67 , tn = 14 \n",
    "selectivity = tn / (tn+fp)"
   ]
  },
  {
   "cell_type": "code",
   "execution_count": 46,
   "id": "c9c490bb",
   "metadata": {},
   "outputs": [
    {
     "data": {
      "text/plain": [
       "0.21739130434782608"
      ]
     },
     "execution_count": 46,
     "metadata": {},
     "output_type": "execute_result"
    }
   ],
   "source": [
    "selectivity\n",
    "# Selectivity is 0.1728395061728395 % "
   ]
  },
  {
   "cell_type": "markdown",
   "id": "d64dbb0d",
   "metadata": {},
   "source": [
    "# False Positive Rate ( FPR ) or 1- Specificity "
   ]
  },
  {
   "cell_type": "code",
   "execution_count": 47,
   "id": "4d995c68",
   "metadata": {},
   "outputs": [
    {
     "data": {
      "text/plain": [
       "0.782608695652174"
      ]
     },
     "execution_count": 47,
     "metadata": {},
     "output_type": "execute_result"
    }
   ],
   "source": [
    "# tp = 252 , fn = 69 , fp = 67 , tn = 14 \n",
    "fpr = fp / (fp+tn)\n",
    "fpr\n",
    "# FPR = 0.8271604938271605 % "
   ]
  },
  {
   "cell_type": "markdown",
   "id": "a6570655",
   "metadata": {},
   "source": [
    "# F1 Measure"
   ]
  },
  {
   "cell_type": "code",
   "execution_count": 48,
   "id": "3e479f83",
   "metadata": {},
   "outputs": [],
   "source": [
    "# recall is 0.7850467289719626 % \n",
    "\n",
    "f1_measure = ( tp/(tp+fp) + recall ) / 2"
   ]
  },
  {
   "cell_type": "code",
   "execution_count": 49,
   "id": "e7d521ac",
   "metadata": {},
   "outputs": [
    {
     "data": {
      "text/plain": [
       "0.7875000000000001"
      ]
     },
     "execution_count": 49,
     "metadata": {},
     "output_type": "execute_result"
    }
   ],
   "source": [
    "f1_measure\n",
    "# F1 Measure is 0.7875076905047901 %"
   ]
  },
  {
   "cell_type": "markdown",
   "id": "8f7b66c4",
   "metadata": {},
   "source": [
    "# Harmonic Mean, F1 Score "
   ]
  },
  {
   "cell_type": "code",
   "execution_count": 50,
   "id": "3973fe27",
   "metadata": {},
   "outputs": [],
   "source": [
    "precision = tp/(tp+fp)\n",
    "recall = tp / (tp+fn)\n",
    "\n",
    "f1 = (2 * precision) / (precision + recall )"
   ]
  },
  {
   "cell_type": "code",
   "execution_count": 51,
   "id": "88bee5a3",
   "metadata": {},
   "outputs": [
    {
     "data": {
      "text/plain": [
       "0.9841269841269841"
      ]
     },
     "execution_count": 51,
     "metadata": {},
     "output_type": "execute_result"
    }
   ],
   "source": [
    "f1\n",
    "# harmonic mean and F1 Score is 1.003125 %"
   ]
  },
  {
   "cell_type": "markdown",
   "id": "4de6fd8f",
   "metadata": {},
   "source": [
    "# Threat Score(TS) or Critical Success Index(CSI) "
   ]
  },
  {
   "cell_type": "code",
   "execution_count": 52,
   "id": "8409a692",
   "metadata": {},
   "outputs": [
    {
     "data": {
      "text/plain": [
       "0.6492146596858639"
      ]
     },
     "execution_count": 52,
     "metadata": {},
     "output_type": "execute_result"
    }
   ],
   "source": [
    "CSI = tp / (tp+fn+fp)\n",
    "CSI\n",
    "\n",
    "# Critical Success Index is 0.6494845360824743 %\n"
   ]
  },
  {
   "cell_type": "markdown",
   "id": "81239bc1",
   "metadata": {},
   "source": [
    "# False Discovery Rate (FDR)"
   ]
  },
  {
   "cell_type": "code",
   "execution_count": 53,
   "id": "10914035",
   "metadata": {},
   "outputs": [
    {
     "data": {
      "text/plain": [
       "0.225"
      ]
     },
     "execution_count": 53,
     "metadata": {},
     "output_type": "execute_result"
    }
   ],
   "source": [
    "FDR = fp / (tp + fp )\n",
    "FDR \n",
    "# RDR is 0.21003134796238246"
   ]
  },
  {
   "cell_type": "markdown",
   "id": "fc95a53f",
   "metadata": {},
   "source": [
    "# ROC & AUC Curve "
   ]
  },
  {
   "cell_type": "code",
   "execution_count": 54,
   "id": "c8dcb1f5",
   "metadata": {},
   "outputs": [
    {
     "data": {
      "text/plain": [
       "<Figure size 864x576 with 0 Axes>"
      ]
     },
     "metadata": {},
     "output_type": "display_data"
    },
    {
     "data": {
      "image/png": "[encoded data removed]",
      "text/plain": [
       "<Figure size 432x288 with 1 Axes>"
      ]
     },
     "metadata": {
      "needs_background": "light"
     },
     "output_type": "display_data"
    }
   ],
   "source": [
    "plt.figure(figsize=(12,8))\n",
    "plot_roc_curve(clf,x_train,y_train)\n",
    "plt.plot([0,1],[0,1])\n",
    "plt.title(\"This ROC Curve for Training Data\")\n",
    "plt.show()"
   ]
  },
  {
   "cell_type": "code",
   "execution_count": 57,
   "id": "9cb58981",
   "metadata": {},
   "outputs": [
    {
     "data": {
      "text/plain": [
       "<Figure size 864x576 with 0 Axes>"
      ]
     },
     "metadata": {},
     "output_type": "display_data"
    },
    {
     "data": {
      "image/png": "[encoded data removed]",
      "text/plain": [
       "<Figure size 432x288 with 1 Axes>"
      ]
     },
     "metadata": {
      "needs_background": "light"
     },
     "output_type": "display_data"
    }
   ],
   "source": [
    "plt.figure(figsize=(12,8))\n",
    "plot_roc_curve(clf,x_test,y_test)\n",
    "plt.plot([0,1],[0,1])\n",
    "plt.title(\"This ROC Curve for Testing Data\")\n",
    "plt.show()\n",
    "\n",
    "# 0.7 to 0.8 is considered acceptable, 0.8 to 0.9 is considered excellent, and more than 0.1 is consideredoutstanding"
   ]
  },
  {
   "cell_type": "markdown",
   "id": "d6e34b8e",
   "metadata": {},
   "source": [
    "# Balanced Accurancy (BA)"
   ]
  },
  {
   "cell_type": "code",
   "execution_count": 62,
   "id": "06dd8966",
   "metadata": {},
   "outputs": [],
   "source": [
    "# BA = (TPR + TNR) / 2 \n",
    "\n",
    "TPR = tp / (tp+fn) # TPR means True Positive Rate\n",
    "TNR = tn / (fp+tn) # TPR means True Negative Rate\n",
    "\n",
    "\n",
    "BA = (TPR + TNR) / 2  # Balanced Accurancy \n",
    "\n",
    "# Balanced Accurancy is 0.5086956521739131 % "
   ]
  },
  {
   "cell_type": "code",
   "execution_count": 61,
   "id": "563310ed",
   "metadata": {},
   "outputs": [
    {
     "data": {
      "text/plain": [
       "0.5086956521739131"
      ]
     },
     "execution_count": 61,
     "metadata": {},
     "output_type": "execute_result"
    }
   ],
   "source": [
    "BA"
   ]
  },
  {
   "cell_type": "code",
   "execution_count": null,
   "id": "c78b058f",
   "metadata": {},
   "outputs": [],
   "source": []
  },
  {
   "cell_type": "code",
   "execution_count": null,
   "id": "5bb0f260",
   "metadata": {},
   "outputs": [],
   "source": []
  }
 ],
 "metadata": {
  "kernelspec": {
   "display_name": "Python 3 (ipykernel)",
   "language": "python",
   "name": "python3"
  },
  "language_info": {
   "codemirror_mode": {
    "name": "ipython",
    "version": 3
   },
   "file_extension": ".py",
   "mimetype": "text/x-python",
   "name": "python",
   "nbconvert_exporter": "python",
   "pygments_lexer": "ipython3",
   "version": "3.9.7"
  }
 },
 "nbformat": 4,
 "nbformat_minor": 5
}
